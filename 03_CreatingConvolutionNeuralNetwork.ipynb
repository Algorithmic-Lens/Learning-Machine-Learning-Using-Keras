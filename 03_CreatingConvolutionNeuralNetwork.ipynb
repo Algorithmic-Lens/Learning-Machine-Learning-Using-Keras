{
  "nbformat": 4,
  "nbformat_minor": 0,
  "metadata": {
    "colab": {
      "name": "Keras_CreatingConvolutionNeuralNetwork.ipynb",
      "provenance": [],
      "collapsed_sections": [],
      "toc_visible": true
    },
    "kernelspec": {
      "name": "python3",
      "display_name": "Python 3"
    }
  },
  "cells": [
    {
      "cell_type": "markdown",
      "metadata": {
        "id": "kuygWPIzi4kP",
        "colab_type": "text"
      },
      "source": [
        "# Creating convolution neural networks (CNN) with Keras\n",
        "\n",
        "This notebook goes over creating a convolution neural network in Keras. To for the basics see the Creating Neural Network notebook.\n"
      ]
    },
    {
      "cell_type": "code",
      "metadata": {
        "id": "EB7-yVvihR4e",
        "colab_type": "code",
        "colab": {}
      },
      "source": [
        "import numpy as np\n",
        "import matplotlib.pyplot as plt\n",
        "import random\n",
        "\n",
        "from keras.datasets import fashion_mnist  # Fashion MNIST dataset is included in Keras\n",
        "from keras.models import Sequential, Model  # Neural network Model type to be used\n",
        "\n",
        "\n",
        "from keras.layers.core import Dense, Dropout, Activation  # Types of layers to be used in our model\n",
        "from keras.layers import Conv2D, MaxPooling2D, Flatten  # Added for layers needed for CNN\n",
        "from keras.layers.normalization import BatchNormalization  #Added for CNN\n",
        "from keras.utils import np_utils  # NumPy related tools"
      ],
      "execution_count": 0,
      "outputs": []
    },
    {
      "cell_type": "markdown",
      "metadata": {
        "id": "xZXkAp3Bqn9m",
        "colab_type": "text"
      },
      "source": [
        "## Preparing the data\n",
        "\n",
        "This part is similar to how we prepared data for a dense neural network but we won't flatten the images into a one dimensional vector. That way the convolution layers can use the spatial data in the image (a pixel's neighboring pixels) to better understand the image."
      ]
    },
    {
      "cell_type": "markdown",
      "metadata": {
        "id": "V0eWu__3i5yz",
        "colab_type": "text"
      },
      "source": [
        "### Download dataset from Keras\n",
        "\n",
        "We download the data and separate it into **training** and **testing** sets. Each of these are separated into **x** (input images) and **y** (output labels). We also create a list to hold the names of the various classes detected by the network."
      ]
    },
    {
      "cell_type": "code",
      "metadata": {
        "id": "iup3nxpziFa-",
        "colab_type": "code",
        "colab": {}
      },
      "source": [
        "(training_input, training_output), (test_input, test_output) = fashion_mnist.load_data()\n",
        "\n",
        "example_images = test_input[:9]\n",
        "example_labels = test_output[:9]\n",
        "\n",
        "LABEL_NAMES = ['t_shirt', 'trouser', 'pullover', 'dress', 'coat', 'sandal', 'shirt', 'sneaker', 'bag', 'ankle_boots']\n"
      ],
      "execution_count": 0,
      "outputs": []
    },
    {
      "cell_type": "markdown",
      "metadata": {
        "id": "W7tkMngDjwea",
        "colab_type": "text"
      },
      "source": [
        "### Preview dataset\n",
        "\n",
        "Lets take a look at what makes up the dataset we will use."
      ]
    },
    {
      "cell_type": "code",
      "metadata": {
        "id": "U5B1KyC_kfr6",
        "colab_type": "code",
        "outputId": "ce3c5855-faed-4435-cb67-c59f1a6e5d0f",
        "colab": {
          "base_uri": "https://localhost:8080/",
          "height": 729
        }
      },
      "source": [
        "print('Training input shape: ', training_input.shape)\n",
        "print('Training output shape: ', training_output.shape)\n",
        "print('Test input shape: ', test_input.shape)\n",
        "print('Test output shape: ', test_output.shape)\n",
        "\n",
        "plt.rcParams['figure.figsize'] = (9,9)\n",
        "\n",
        "for i in range(9):\n",
        "    plt.subplot(3,3,i+1)\n",
        "    index = random.randint(0, len(training_input))\n",
        "    image = training_input[index]\n",
        "    labelIndex = training_output[index]\n",
        "    plt.imshow(image, cmap='gray', interpolation='none')\n",
        "    plt.axis('off')\n",
        "    plt.title(LABEL_NAMES[labelIndex])\n",
        "    \n",
        "plt.tight_layout()"
      ],
      "execution_count": 10,
      "outputs": [
        {
          "output_type": "stream",
          "text": [
            "Training input shape:  (60000, 28, 28)\n",
            "Training output shape:  (60000,)\n",
            "Test input shape:  (10000, 28, 28)\n",
            "Test output shape:  (10000,)\n"
          ],
          "name": "stdout"
        },
        {
          "output_type": "display_data",
          "data": {
            "image/png": "[encoded data removed]",
            "text/plain": [
              "<Figure size 648x648 with 9 Axes>"
            ]
          },
          "metadata": {
            "tags": []
          }
        }
      ]
    },
    {
      "cell_type": "markdown",
      "metadata": {
        "id": "25uLQxcSppjv",
        "colab_type": "text"
      },
      "source": [
        "### Reshape output index to vector with one value for each category.\n",
        "\n",
        "We still need a 1 by 10 output vectors for our training and testing data."
      ]
    },
    {
      "cell_type": "code",
      "metadata": {
        "id": "J0G2CXLSppzQ",
        "colab_type": "code",
        "outputId": "e489bed0-54f1-42c3-f162-70f2f9287b7f",
        "colab": {
          "base_uri": "https://localhost:8080/",
          "height": 71
        }
      },
      "source": [
        "num_classes = 10 # number of unique digits\n",
        "\n",
        "training_output = np_utils.to_categorical(training_output, num_classes)\n",
        "test_output = np_utils.to_categorical(test_output, num_classes)\n",
        "\n",
        "print(\"training_output shape: \", training_output.shape)\n",
        "print(\"test_output shape: \", test_output.shape)\n",
        "print(\"First output vector: \", test_output[0])"
      ],
      "execution_count": 11,
      "outputs": [
        {
          "output_type": "stream",
          "text": [
            "training_output shape:  (60000, 10)\n",
            "test_output shape:  (10000, 10)\n",
            "First output vector:  [0. 0. 0. 0. 0. 0. 0. 0. 0. 1.]\n"
          ],
          "name": "stdout"
        }
      ]
    },
    {
      "cell_type": "markdown",
      "metadata": {
        "id": "67b032bApe3y",
        "colab_type": "text"
      },
      "source": [
        "### Preparing our input images\n",
        "\n",
        "We will skip reshaping our input with a CNN but still need to normalize the pixel data (a integer between 0 and 255) into a floating point number beteen 0 and 1.0."
      ]
    },
    {
      "cell_type": "code",
      "metadata": {
        "id": "wvXkdx05ll0Q",
        "colab_type": "code",
        "outputId": "377261e8-6d68-4480-c038-3f68a6b5e923",
        "colab": {
          "base_uri": "https://localhost:8080/",
          "height": 89
        }
      },
      "source": [
        "training_input = training_input.reshape(60000, 28, 28, 1) #add an additional dimension to represent the single-channel\n",
        "test_input = test_input.reshape(10000, 28, 28, 1)\n",
        "\n",
        "training_input = training_input.astype('float32')\n",
        "test_input = test_input.astype('float32')\n",
        "\n",
        "training_input = training_input / 255\n",
        "test_input = test_input / 255\n",
        "\n",
        "print('training_input shape: ', training_input.shape)\n",
        "print('training_output shape: ', training_output.shape)\n",
        "print('training_input shape: ', test_input.shape)\n",
        "print('training_output shape: ', test_output.shape)"
      ],
      "execution_count": 24,
      "outputs": [
        {
          "output_type": "stream",
          "text": [
            "training_input shape:  (60000, 28, 28, 1)\n",
            "training_output shape:  (60000, 10)\n",
            "training_input shape:  (10000, 28, 28, 1)\n",
            "training_output shape:  (10000, 10)\n"
          ],
          "name": "stdout"
        }
      ]
    },
    {
      "cell_type": "markdown",
      "metadata": {
        "id": "Pw722gvdqgO_",
        "colab_type": "text"
      },
      "source": [
        "## Building the network with Keras\n",
        "\n",
        "For a CNN we add three types of layers, convolution, pooling and flatten. \n",
        "\n",
        "We also add a normalization to the convolution kernels before using them. This greatly increases the models accuracy."
      ]
    },
    {
      "cell_type": "code",
      "metadata": {
        "id": "J4jYEKjTqfdA",
        "colab_type": "code",
        "colab": {}
      },
      "source": [
        "model = Sequential()"
      ],
      "execution_count": 0,
      "outputs": []
    },
    {
      "cell_type": "code",
      "metadata": {
        "id": "LFrIitJHq2Eb",
        "colab_type": "code",
        "outputId": "44f1fefe-69c5-415b-c4d4-14b5425ece51",
        "colab": {
          "base_uri": "https://localhost:8080/",
          "height": 721
        }
      },
      "source": [
        "# First layer (CONVOLUTION)\n",
        "model.add(Conv2D(32, (3, 3), input_shape=(28,28,1))) # 32 different 3x3 kernels -- so 32 feature maps\n",
        "model.add(BatchNormalization(axis=-1))               # normalize each feature map before activation\n",
        "model.add(Activation('relu'))                        # activation function\n",
        "\n",
        "# Second layer (POOLING)\n",
        "model.add(MaxPooling2D(pool_size=(2, 2)))\n",
        "model.add(Dropout(0.25))\n",
        "\n",
        "# Third layer (CONVOLUTION)\n",
        "model.add(Conv2D(64, (3, 3))) \n",
        "model.add(BatchNormalization(axis=-1))               # normalize each feature map before activation\n",
        "model.add(Activation('relu'))\n",
        "\n",
        "# Fourth layer (POOLING)\n",
        "model.add(MaxPooling2D(pool_size=(2, 2)))\n",
        "model.add(Dropout(0.25))\n",
        "\n",
        "# Fifth layer (FLATTEN)\n",
        "model.add(Flatten())\n",
        "\n",
        "# Sixth layer (DENSE)\n",
        "model.add(Dense(128, activation='relu'))\n",
        "model.add(Dropout(0.5))\n",
        "\n",
        "# Seventh layer (OUTPUT)\n",
        "model.add(Dense(num_classes, activation='softmax'))\n",
        "\n",
        "model.summary()"
      ],
      "execution_count": 38,
      "outputs": [
        {
          "output_type": "stream",
          "text": [
            "WARNING:tensorflow:From /usr/local/lib/python3.6/dist-packages/keras/backend/tensorflow_backend.py:2041: The name tf.nn.fused_batch_norm is deprecated. Please use tf.compat.v1.nn.fused_batch_norm instead.\n",
            "\n",
            "Model: \"sequential_3\"\n",
            "_________________________________________________________________\n",
            "Layer (type)                 Output Shape              Param #   \n",
            "=================================================================\n",
            "conv2d_9 (Conv2D)            (None, 26, 26, 32)        320       \n",
            "_________________________________________________________________\n",
            "batch_normalization_1 (Batch (None, 26, 26, 32)        128       \n",
            "_________________________________________________________________\n",
            "activation_7 (Activation)    (None, 26, 26, 32)        0         \n",
            "_________________________________________________________________\n",
            "max_pooling2d_5 (MaxPooling2 (None, 13, 13, 32)        0         \n",
            "_________________________________________________________________\n",
            "dropout_7 (Dropout)          (None, 13, 13, 32)        0         \n",
            "_________________________________________________________________\n",
            "conv2d_10 (Conv2D)           (None, 11, 11, 64)        18496     \n",
            "_________________________________________________________________\n",
            "batch_normalization_2 (Batch (None, 11, 11, 64)        256       \n",
            "_________________________________________________________________\n",
            "activation_8 (Activation)    (None, 11, 11, 64)        0         \n",
            "_________________________________________________________________\n",
            "max_pooling2d_6 (MaxPooling2 (None, 5, 5, 64)          0         \n",
            "_________________________________________________________________\n",
            "dropout_8 (Dropout)          (None, 5, 5, 64)          0         \n",
            "_________________________________________________________________\n",
            "flatten_3 (Flatten)          (None, 1600)              0         \n",
            "_________________________________________________________________\n",
            "dense_5 (Dense)              (None, 128)               204928    \n",
            "_________________________________________________________________\n",
            "dropout_9 (Dropout)          (None, 128)               0         \n",
            "_________________________________________________________________\n",
            "dense_6 (Dense)              (None, 10)                1290      \n",
            "=================================================================\n",
            "Total params: 225,418\n",
            "Trainable params: 225,226\n",
            "Non-trainable params: 192\n",
            "_________________________________________________________________\n"
          ],
          "name": "stdout"
        }
      ]
    },
    {
      "cell_type": "markdown",
      "metadata": {
        "id": "wxzmySZbtbId",
        "colab_type": "text"
      },
      "source": [
        "### Compile the model\n",
        "\n",
        "Now we can take our model with the layers we have added and compile it into a network that is ready to train. Two important features we need to se are the loss function and optimizer. \n",
        "\n",
        "The loss function is how we plan to evaluate how close the network came the right answer.\n",
        "\n",
        "The optimizer is the method used to try and reduce the loss on the next epoch of training."
      ]
    },
    {
      "cell_type": "code",
      "metadata": {
        "id": "p91Z8SZ_tbSt",
        "colab_type": "code",
        "colab": {}
      },
      "source": [
        "model.compile(loss='categorical_crossentropy', optimizer='adam', metrics=['accuracy'])"
      ],
      "execution_count": 0,
      "outputs": []
    },
    {
      "cell_type": "markdown",
      "metadata": {
        "id": "eEaMDZ60toEH",
        "colab_type": "text"
      },
      "source": [
        "## Train and test the network\n",
        "\n",
        "Running the fit method will send the training set through the network (forward propogation) then adjust the weights to reduce the loss/error (back propogation). Each epoch represents passing the training set through the network one full time. Each epoch accumulates improvents from the previous epoch."
      ]
    },
    {
      "cell_type": "code",
      "metadata": {
        "id": "2tTa8tEctoMA",
        "colab_type": "code",
        "outputId": "f606ab35-5726-419c-c870-2256caf1f338",
        "colab": {
          "base_uri": "https://localhost:8080/",
          "height": 215
        }
      },
      "source": [
        "model.fit(training_input, training_output, batch_size=128, epochs=5, verbose=1)"
      ],
      "execution_count": 40,
      "outputs": [
        {
          "output_type": "stream",
          "text": [
            "Epoch 1/5\n",
            "60000/60000 [==============================] - 87s 1ms/step - loss: 0.6392 - acc: 0.7665\n",
            "Epoch 2/5\n",
            "60000/60000 [==============================] - 86s 1ms/step - loss: 0.4338 - acc: 0.8418\n",
            "Epoch 3/5\n",
            "60000/60000 [==============================] - 85s 1ms/step - loss: 0.3857 - acc: 0.8593\n",
            "Epoch 4/5\n",
            "60000/60000 [==============================] - 85s 1ms/step - loss: 0.3604 - acc: 0.8693\n",
            "Epoch 5/5\n",
            "60000/60000 [==============================] - 86s 1ms/step - loss: 0.3414 - acc: 0.8750\n"
          ],
          "name": "stdout"
        },
        {
          "output_type": "execute_result",
          "data": {
            "text/plain": [
              "<keras.callbacks.History at 0x7f8b77c30c50>"
            ]
          },
          "metadata": {
            "tags": []
          },
          "execution_count": 40
        }
      ]
    },
    {
      "cell_type": "markdown",
      "metadata": {
        "id": "qC5wr7S9w1Ep",
        "colab_type": "text"
      },
      "source": [
        "### Evaluate training\n",
        "\n",
        "\n",
        "After we have completed the training we can evaluate it against our test dataset."
      ]
    },
    {
      "cell_type": "code",
      "metadata": {
        "id": "Hy_CeH61t-z0",
        "colab_type": "code",
        "outputId": "82f4dd22-5701-4c24-e63f-fece4c900730",
        "colab": {
          "base_uri": "https://localhost:8080/",
          "height": 71
        }
      },
      "source": [
        "score = model.evaluate(test_input, test_output)\n",
        "print('Test score:', score[0])\n",
        "print('Test accuracy:', score[1])"
      ],
      "execution_count": 41,
      "outputs": [
        {
          "output_type": "stream",
          "text": [
            "10000/10000 [==============================] - 7s 657us/step\n",
            "Test score: 6.719698097229004\n",
            "Test accuracy: 0.1767\n"
          ],
          "name": "stdout"
        }
      ]
    },
    {
      "cell_type": "markdown",
      "metadata": {
        "id": "l7HrgIlLHRhh",
        "colab_type": "text"
      },
      "source": [
        "## Using the model to predict."
      ]
    },
    {
      "cell_type": "code",
      "metadata": {
        "id": "WwNdmMkcIL5j",
        "colab_type": "code",
        "outputId": "b2b7175c-7049-4c60-feee-e176835cc2cf",
        "colab": {
          "base_uri": "https://localhost:8080/",
          "height": 657
        }
      },
      "source": [
        "example_images_vectors = example_images.reshape(9, 28, 28, 1)\n",
        "example_images_vectors = example_images_vectors.astype('float32')\n",
        "example_images_vectors = example_images_vectors / 255\n",
        "\n",
        "predictions = model.predict(example_images_vectors)\n",
        "\n",
        "most_likely = [np.argmax(prediction) for prediction in predictions]\n",
        "predicted_labels = [LABEL_NAMES[index] for index in most_likely]\n",
        "\n",
        "plt.rcParams['figure.figsize'] = (9,9)\n",
        "\n",
        "for i in range(9):\n",
        "    plt.subplot(3,3,i+1)\n",
        "    image = example_images[i]\n",
        "    label = LABEL_NAMES[example_labels[i]] + \" --> \" + predicted_labels[i]\n",
        "    plt.imshow(image, cmap='gray', interpolation='none')\n",
        "    plt.axis('off')\n",
        "    plt.title(label)\n",
        "    \n",
        "plt.tight_layout()"
      ],
      "execution_count": 42,
      "outputs": [
        {
          "output_type": "display_data",
          "data": {
            "image/png": "[encoded data removed]",
            "text/plain": [
              "<Figure size 648x648 with 9 Axes>"
            ]
          },
          "metadata": {
            "tags": []
          }
        }
      ]
    },
    {
      "cell_type": "markdown",
      "metadata": {
        "id": "87Gw3lF_ByYa",
        "colab_type": "text"
      },
      "source": [
        "## Saving and loading models\n",
        "\n",
        "See the Keras_CreatingNeuralNetwork notebook for saving and loading models."
      ]
    },
    {
      "cell_type": "code",
      "metadata": {
        "id": "dER7cik1Cf3B",
        "colab_type": "code",
        "colab": {}
      },
      "source": [
        ""
      ],
      "execution_count": 0,
      "outputs": []
    }
  ]
}