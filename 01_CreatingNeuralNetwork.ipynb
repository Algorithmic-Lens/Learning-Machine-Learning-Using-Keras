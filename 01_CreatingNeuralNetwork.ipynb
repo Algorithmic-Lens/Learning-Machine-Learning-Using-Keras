{
  "nbformat": 4,
  "nbformat_minor": 0,
  "metadata": {
    "colab": {
      "name": "Keras_CreatingNeuralNetwork.ipynb",
      "provenance": [],
      "collapsed_sections": [],
      "toc_visible": true
    },
    "kernelspec": {
      "name": "python3",
      "display_name": "Python 3"
    }
  },
  "cells": [
    {
      "cell_type": "markdown",
      "metadata": {
        "id": "kuygWPIzi4kP",
        "colab_type": "text"
      },
      "source": [
        "# Creating neural networks with Keras\n",
        "\n",
        "Keras is a open-source neural network library. It helps you build and train neural networks and then use them to make predictions.\n"
      ]
    },
    {
      "cell_type": "code",
      "metadata": {
        "id": "EB7-yVvihR4e",
        "colab_type": "code",
        "colab": {}
      },
      "source": [
        "import numpy as np\n",
        "import matplotlib.pyplot as plt\n",
        "import random\n",
        "\n",
        "from keras.datasets import fashion_mnist  # Fashion MNIST dataset is included in Keras\n",
        "from keras.models import Sequential, Model  # Neural network Model type to be used\n",
        "\n",
        "\n",
        "from keras.layers.core import Dense, Dropout, Activation # Types of layers to be used in our model\n",
        "from keras.utils import np_utils                         # NumPy related tools"
      ],
      "execution_count": 0,
      "outputs": []
    },
    {
      "cell_type": "markdown",
      "metadata": {
        "id": "xZXkAp3Bqn9m",
        "colab_type": "text"
      },
      "source": [
        "## Preparing the data\n",
        "\n",
        "A big part of any machine learning process is preparing the data to be evaluated by the neural network. We are working with a widely used existing dataset so there is minimal preprocessing required. \n",
        "\n",
        "When working with your own data you may need to spend some time resizing, cleaning and filtering to get a manageable data set. \n",
        "\n",
        "The existing dataset is also nicely divided into training and testing sets."
      ]
    },
    {
      "cell_type": "markdown",
      "metadata": {
        "id": "V0eWu__3i5yz",
        "colab_type": "text"
      },
      "source": [
        "### Download dataset from Keras\n",
        "\n",
        "We download the data and separate it into **training** and **testing** sets. Each of these are separated into **x** (input images) and **y** (output labels). We also create a list to hold the names of the various classes detected by the network."
      ]
    },
    {
      "cell_type": "code",
      "metadata": {
        "id": "iup3nxpziFa-",
        "colab_type": "code",
        "colab": {}
      },
      "source": [
        "(training_input, training_output), (test_input, test_output) = fashion_mnist.load_data()\n",
        "\n",
        "example_images = test_input[:9]\n",
        "example_labels = test_output[:9]\n",
        "\n",
        "LABEL_NAMES = ['t_shirt', 'trouser', 'pullover', 'dress', 'coat', 'sandal', 'shirt', 'sneaker', 'bag', 'ankle_boots']\n"
      ],
      "execution_count": 0,
      "outputs": []
    },
    {
      "cell_type": "markdown",
      "metadata": {
        "id": "W7tkMngDjwea",
        "colab_type": "text"
      },
      "source": [
        "### Preview dataset\n",
        "\n",
        "Lets take a look at what makes up the dataset we will use."
      ]
    },
    {
      "cell_type": "code",
      "metadata": {
        "id": "U5B1KyC_kfr6",
        "colab_type": "code",
        "outputId": "4ec8a788-b5e3-46e1-ff90-ceb4e2803302",
        "colab": {
          "base_uri": "https://localhost:8080/",
          "height": 729
        }
      },
      "source": [
        "print('Training input shape: ', training_input.shape)\n",
        "print('Training output shape: ', training_output.shape)\n",
        "print('Test input shape: ', test_input.shape)\n",
        "print('Test output shape: ', test_output.shape)\n",
        "\n",
        "plt.rcParams['figure.figsize'] = (9,9)\n",
        "\n",
        "for i in range(9):\n",
        "    plt.subplot(3,3,i+1)\n",
        "    index = random.randint(0, len(training_input))\n",
        "    image = training_input[index]\n",
        "    labelIndex = training_output[index]\n",
        "    plt.imshow(image, cmap='gray', interpolation='none')\n",
        "    plt.axis('off')\n",
        "    plt.title(LABEL_NAMES[labelIndex])\n",
        "    \n",
        "plt.tight_layout()"
      ],
      "execution_count": 0,
      "outputs": [
        {
          "output_type": "stream",
          "text": [
            "Training input shape:  (60000, 28, 28)\n",
            "Training output shape:  (60000,)\n",
            "Test input shape:  (10000, 28, 28)\n",
            "Test output shape:  (10000,)\n"
          ],
          "name": "stdout"
        },
        {
          "output_type": "display_data",
          "data": {
            "image/png": "[encoded data removed]",
            "text/plain": [
              "<Figure size 648x648 with 9 Axes>"
            ]
          },
          "metadata": {
            "tags": []
          }
        }
      ]
    },
    {
      "cell_type": "markdown",
      "metadata": {
        "id": "25uLQxcSppjv",
        "colab_type": "text"
      },
      "source": [
        "### Reshape output index to vector with one value for each category."
      ]
    },
    {
      "cell_type": "code",
      "metadata": {
        "id": "J0G2CXLSppzQ",
        "colab_type": "code",
        "outputId": "7beef03c-a445-4032-a53f-dd2af4e78c50",
        "colab": {
          "base_uri": "https://localhost:8080/",
          "height": 71
        }
      },
      "source": [
        "nb_classes = 10 # number of unique digits\n",
        "\n",
        "training_output = np_utils.to_categorical(training_output, nb_classes)\n",
        "test_output = np_utils.to_categorical(test_output, nb_classes)\n",
        "\n",
        "print(\"training_output shape: \", training_output.shape)\n",
        "print(\"test_output shape: \", test_output.shape)\n",
        "print(\"First output vector: \", test_output[0])"
      ],
      "execution_count": 0,
      "outputs": [
        {
          "output_type": "stream",
          "text": [
            "training_output shape:  (60000, 10)\n",
            "test_output shape:  (10000, 10)\n",
            "First output vector:  [0. 0. 0. 0. 0. 0. 0. 0. 0. 1.]\n"
          ],
          "name": "stdout"
        }
      ]
    },
    {
      "cell_type": "markdown",
      "metadata": {
        "id": "67b032bApe3y",
        "colab_type": "text"
      },
      "source": [
        "### Reshape images into vectors\n",
        "\n",
        "In this network we are taking 2D image data and turning it to a one dimensional vector of pixels."
      ]
    },
    {
      "cell_type": "code",
      "metadata": {
        "id": "wvXkdx05ll0Q",
        "colab_type": "code",
        "outputId": "4c52ff6a-88c9-4fa7-f6f0-07ac7165cb1f",
        "colab": {
          "base_uri": "https://localhost:8080/",
          "height": 89
        }
      },
      "source": [
        "training_input = training_input.reshape(60000, 784)\n",
        "test_input = test_input.reshape(10000, 784)\n",
        "\n",
        "training_input = training_input.astype('float32')\n",
        "test_input = test_input.astype('float32')\n",
        "\n",
        "training_input = training_input / 255\n",
        "test_input = test_input / 255\n",
        "\n",
        "print('training_input shape: ', training_input.shape)\n",
        "print('training_output shape: ', training_output.shape)\n",
        "print('training_input shape: ', test_input.shape)\n",
        "print('training_output shape: ', test_output.shape)"
      ],
      "execution_count": 0,
      "outputs": [
        {
          "output_type": "stream",
          "text": [
            "training_input shape:  (60000, 784)\n",
            "training_output shape:  (60000, 10)\n",
            "training_input shape:  (10000, 784)\n",
            "training_output shape:  (10000, 10)\n"
          ],
          "name": "stdout"
        }
      ]
    },
    {
      "cell_type": "markdown",
      "metadata": {
        "id": "Pw722gvdqgO_",
        "colab_type": "text"
      },
      "source": [
        "## Building the network with Keras"
      ]
    },
    {
      "cell_type": "code",
      "metadata": {
        "id": "J4jYEKjTqfdA",
        "colab_type": "code",
        "colab": {}
      },
      "source": [
        "model = Sequential()"
      ],
      "execution_count": 0,
      "outputs": []
    },
    {
      "cell_type": "code",
      "metadata": {
        "id": "LFrIitJHq2Eb",
        "colab_type": "code",
        "outputId": "cdac83f9-3a19-4bf0-8865-91c7e21db1ce",
        "colab": {
          "base_uri": "https://localhost:8080/",
          "height": 449
        }
      },
      "source": [
        "# Input layer input shape should match input data shape for one example\n",
        "model.add(Dense(512, input_shape=(784,)))\n",
        "model.add(Activation('relu'))\n",
        "model.add(Dropout(0.2))\n",
        "\n",
        "# Middle (hidden) layer\n",
        "model.add(Dense(512))\n",
        "model.add(Activation('relu'))\n",
        "model.add(Dropout(0.2))\n",
        "\n",
        "# Output layer\n",
        "model.add(Dense(10))\n",
        "model.add(Activation('softmax'))\n",
        "\n",
        "model.summary()"
      ],
      "execution_count": 0,
      "outputs": [
        {
          "output_type": "stream",
          "text": [
            "Model: \"sequential_2\"\n",
            "_________________________________________________________________\n",
            "Layer (type)                 Output Shape              Param #   \n",
            "=================================================================\n",
            "dense_4 (Dense)              (None, 512)               401920    \n",
            "_________________________________________________________________\n",
            "activation_4 (Activation)    (None, 512)               0         \n",
            "_________________________________________________________________\n",
            "dropout_3 (Dropout)          (None, 512)               0         \n",
            "_________________________________________________________________\n",
            "dense_5 (Dense)              (None, 512)               262656    \n",
            "_________________________________________________________________\n",
            "activation_5 (Activation)    (None, 512)               0         \n",
            "_________________________________________________________________\n",
            "dropout_4 (Dropout)          (None, 512)               0         \n",
            "_________________________________________________________________\n",
            "dense_6 (Dense)              (None, 10)                5130      \n",
            "_________________________________________________________________\n",
            "activation_6 (Activation)    (None, 10)                0         \n",
            "=================================================================\n",
            "Total params: 669,706\n",
            "Trainable params: 669,706\n",
            "Non-trainable params: 0\n",
            "_________________________________________________________________\n"
          ],
          "name": "stdout"
        }
      ]
    },
    {
      "cell_type": "markdown",
      "metadata": {
        "id": "wxzmySZbtbId",
        "colab_type": "text"
      },
      "source": [
        "### Compile the model\n",
        "\n",
        "Now we can take our model with the layers we have added and compile it into a network that is ready to train. Two important features we need to se are the loss function and optimizer. \n",
        "\n",
        "The loss function is how we plan to evaluate how close the network came the right answer.\n",
        "\n",
        "The optimizer is the method used to try and reduce the loss on the next epoch of training."
      ]
    },
    {
      "cell_type": "code",
      "metadata": {
        "id": "p91Z8SZ_tbSt",
        "colab_type": "code",
        "colab": {}
      },
      "source": [
        "model.compile(loss='categorical_crossentropy', optimizer='adam', metrics=['accuracy'])"
      ],
      "execution_count": 0,
      "outputs": []
    },
    {
      "cell_type": "markdown",
      "metadata": {
        "id": "eEaMDZ60toEH",
        "colab_type": "text"
      },
      "source": [
        "## Train and test the network\n",
        "\n",
        "Running the fit method will send the training set through the network (forward propogation) then adjust the weights to reduce the loss/error (back propogation). Each epoch represents passing the training set through the network one full time. Each epoch accumulates improvents from the previous epoch."
      ]
    },
    {
      "cell_type": "code",
      "metadata": {
        "id": "2tTa8tEctoMA",
        "colab_type": "code",
        "outputId": "d2216643-bf40-46e0-ed43-729c9b08da5b",
        "colab": {
          "base_uri": "https://localhost:8080/",
          "height": 215
        }
      },
      "source": [
        "model.fit(training_input, training_output, batch_size=128, epochs=5, verbose=1)"
      ],
      "execution_count": 0,
      "outputs": [
        {
          "output_type": "stream",
          "text": [
            "Epoch 1/5\n",
            "60000/60000 [==============================] - 10s 160us/step - loss: 0.5157 - acc: 0.8150\n",
            "Epoch 2/5\n",
            "60000/60000 [==============================] - 9s 149us/step - loss: 0.3829 - acc: 0.8606\n",
            "Epoch 3/5\n",
            "60000/60000 [==============================] - 9s 149us/step - loss: 0.3472 - acc: 0.8722\n",
            "Epoch 4/5\n",
            "60000/60000 [==============================] - 9s 153us/step - loss: 0.3258 - acc: 0.8805\n",
            "Epoch 5/5\n",
            "60000/60000 [==============================] - 9s 154us/step - loss: 0.3112 - acc: 0.8841\n"
          ],
          "name": "stdout"
        },
        {
          "output_type": "execute_result",
          "data": {
            "text/plain": [
              "<keras.callbacks.History at 0x7fc76533b588>"
            ]
          },
          "metadata": {
            "tags": []
          },
          "execution_count": 36
        }
      ]
    },
    {
      "cell_type": "markdown",
      "metadata": {
        "id": "qC5wr7S9w1Ep",
        "colab_type": "text"
      },
      "source": [
        "### Evaluate training\n",
        "\n",
        "\n",
        "After we have completed the training we can evaluate it against our test dataset."
      ]
    },
    {
      "cell_type": "code",
      "metadata": {
        "id": "Hy_CeH61t-z0",
        "colab_type": "code",
        "outputId": "5d52ffff-a2d1-49f9-9a87-31b30e7cefbc",
        "colab": {
          "base_uri": "https://localhost:8080/",
          "height": 71
        }
      },
      "source": [
        "score = model.evaluate(test_input, test_output)\n",
        "print('Test score:', score[0])\n",
        "print('Test accuracy:', score[1])"
      ],
      "execution_count": 0,
      "outputs": [
        {
          "output_type": "stream",
          "text": [
            "10000/10000 [==============================] - 1s 77us/step\n",
            "Test score: 0.3391733439207077\n",
            "Test accuracy: 0.8748\n"
          ],
          "name": "stdout"
        }
      ]
    },
    {
      "cell_type": "markdown",
      "metadata": {
        "id": "l7HrgIlLHRhh",
        "colab_type": "text"
      },
      "source": [
        "## Using the model to predict."
      ]
    },
    {
      "cell_type": "code",
      "metadata": {
        "id": "WwNdmMkcIL5j",
        "colab_type": "code",
        "outputId": "77d0384f-5871-4abd-d7d9-6a5b0854d713",
        "colab": {
          "base_uri": "https://localhost:8080/",
          "height": 657
        }
      },
      "source": [
        "example_images_vectors = example_images.reshape(9, 784)\n",
        "example_images_vectors = example_images_vectors.astype('float32')\n",
        "example_images_vectors = example_images_vectors / 255\n",
        "\n",
        "predictions = model.predict(example_images_vectors)\n",
        "\n",
        "most_likely = [np.argmax(prediction) for prediction in predictions]\n",
        "predicted_labels = [LABEL_NAMES[index] for index in most_likely]\n",
        "\n",
        "plt.rcParams['figure.figsize'] = (9,9)\n",
        "\n",
        "for i in range(9):\n",
        "    plt.subplot(3,3,i+1)\n",
        "    image = example_images[i]\n",
        "    label = LABEL_NAMES[example_labels[i]] + \" --> \" + predicted_labels[i]\n",
        "    plt.imshow(image, cmap='gray', interpolation='none')\n",
        "    plt.axis('off')\n",
        "    plt.title(label)\n",
        "    \n",
        "plt.tight_layout()"
      ],
      "execution_count": 0,
      "outputs": [
        {
          "output_type": "display_data",
          "data": {
            "image/png": "[encoded data removed]",
            "text/plain": [
              "<Figure size 648x648 with 9 Axes>"
            ]
          },
          "metadata": {
            "tags": []
          }
        }
      ]
    },
    {
      "cell_type": "markdown",
      "metadata": {
        "id": "87Gw3lF_ByYa",
        "colab_type": "text"
      },
      "source": [
        "## Saving and loading models"
      ]
    },
    {
      "cell_type": "code",
      "metadata": {
        "id": "-xs_mm6FHNx5",
        "colab_type": "code",
        "colab": {}
      },
      "source": [
        "model.save('my_model.h5')"
      ],
      "execution_count": 0,
      "outputs": []
    },
    {
      "cell_type": "code",
      "metadata": {
        "id": "w_jsax_wB4IW",
        "colab_type": "code",
        "colab": {}
      },
      "source": [
        "new_model = models.load_model('my_model.h5')"
      ],
      "execution_count": 0,
      "outputs": []
    },
    {
      "cell_type": "code",
      "metadata": {
        "id": "2mmAS_I1CAt1",
        "colab_type": "code",
        "outputId": "f594db42-2c6b-41e0-96ad-a82dabe0cdde",
        "colab": {
          "base_uri": "https://localhost:8080/",
          "height": 657
        }
      },
      "source": [
        "predictions = new_model.predict(example_images_vectors)\n",
        "\n",
        "most_likely = [np.argmax(prediction) for prediction in predictions]\n",
        "predicted_labels = [LABEL_NAMES[index] for index in most_likely]\n",
        "\n",
        "plt.rcParams['figure.figsize'] = (9,9)\n",
        "\n",
        "for i in range(9):\n",
        "    plt.subplot(3,3,i+1)\n",
        "    image = example_images[i]\n",
        "    label = LABEL_NAMES[example_labels[i]] + \" --> \" + predicted_labels[i]\n",
        "    plt.imshow(image, cmap='gray', interpolation='none')\n",
        "    plt.axis('off')\n",
        "    plt.title(label)\n",
        "    \n",
        "plt.tight_layout()"
      ],
      "execution_count": 0,
      "outputs": [
        {
          "output_type": "display_data",
          "data": {
            "image/png": "[encoded data removed]",
            "text/plain": [
              "<Figure size 648x648 with 9 Axes>"
            ]
          },
          "metadata": {
            "tags": []
          }
        }
      ]
    },
    {
      "cell_type": "code",
      "metadata": {
        "id": "dER7cik1Cf3B",
        "colab_type": "code",
        "colab": {}
      },
      "source": [
        ""
      ],
      "execution_count": 0,
      "outputs": []
    }
  ]
}